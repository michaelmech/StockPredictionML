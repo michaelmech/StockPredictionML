{
 "cells": [
  {
   "cell_type": "code",
   "execution_count": 1,
   "metadata": {},
   "outputs": [],
   "source": [
    "import os\n",
    "os.environ['CUDA_LAUNCH_BLOCKING'] = \"1\""
   ]
  },
  {
   "cell_type": "code",
   "execution_count": 2,
   "metadata": {},
   "outputs": [],
   "source": [
    "import pandas as pd\n",
    "import numpy as np\n",
    "import torch\n",
    "import torch.nn as nn\n",
    "import matplotlib.pyplot as plt\n",
    "from torch.utils.data import Dataset, DataLoader\n",
    "from sklearn.preprocessing import MinMaxScaler"
   ]
  },
  {
   "cell_type": "markdown",
   "metadata": {},
   "source": [
    "#### Pick Device"
   ]
  },
  {
   "cell_type": "code",
   "execution_count": 3,
   "metadata": {},
   "outputs": [
    {
     "name": "stdout",
     "output_type": "stream",
     "text": [
      "cuda:0\n"
     ]
    }
   ],
   "source": [
    "device = torch.device(\"cuda:0\" if torch.cuda.is_available() else \"cpu\")\n",
    "print(device)"
   ]
  },
  {
   "cell_type": "code",
   "execution_count": 4,
   "metadata": {},
   "outputs": [],
   "source": [
    "#using data from Yahoo, with date starting from January 2018\n",
    "path_name=r'/home/mmech/stocks_csv/'\n",
    "def Stockloader(csv_name,path_name):\n",
    "    orig_data=pd.read_csv(path_name+ csv_name)\n",
    "    dates=orig_data['Date']\n",
    "    \n",
    "    orig_data['TypPrice']=  (orig_data['High'] + orig_data['Low'] + orig_data['Close'] ) /3\n",
    "\n",
    "            \n",
    "    pre_data=orig_data.drop(['Date','Adj Close'],axis=1)\n",
    "    \n",
    "    \n",
    "    labels=pre_data.columns\n",
    "    scaler=MinMaxScaler(feature_range=(-1,1))\n",
    "    scaled_data=scaler.fit_transform(pre_data)\n",
    "    data=pd.DataFrame(scaled_data,columns=labels)\n",
    "\n",
    "    return data, dates, scaler"
   ]
  },
  {
   "cell_type": "markdown",
   "metadata": {},
   "source": [
    "orig_data=pd.read_csv('MSFTmod.csv')\n",
    "pre_data=orig_data.drop(['date','Unnamed: 0','vwap'],axis=1) #remove vol and change due to unpredictable nature\n",
    "labels=pre_data.columns\n",
    "\n",
    "scaler=MinMaxScaler(feature_range=(-1,1))\n",
    "scaled_data=scaler.fit_transform(pre_data)\n",
    "data=pd.DataFrame(scaled_data,columns=labels)\n",
    "\n",
    "train_data= data[0:round(0.8*data.shape[0])]  #80% of first data will be for training\n",
    "test_data= data[round(0.8*data.shape[0]):]\n",
    "test_data=test_data.reset_index().drop('index',axis=1)"
   ]
  },
  {
   "cell_type": "markdown",
   "metadata": {},
   "source": [
    "### Insert stock_csv file here"
   ]
  },
  {
   "cell_type": "code",
   "execution_count": 5,
   "metadata": {},
   "outputs": [
    {
     "data": {
      "text/html": [
       "<div>\n",
       "<style scoped>\n",
       "    .dataframe tbody tr th:only-of-type {\n",
       "        vertical-align: middle;\n",
       "    }\n",
       "\n",
       "    .dataframe tbody tr th {\n",
       "        vertical-align: top;\n",
       "    }\n",
       "\n",
       "    .dataframe thead th {\n",
       "        text-align: right;\n",
       "    }\n",
       "</style>\n",
       "<table border=\"1\" class=\"dataframe\">\n",
       "  <thead>\n",
       "    <tr style=\"text-align: right;\">\n",
       "      <th></th>\n",
       "      <th>Open</th>\n",
       "      <th>High</th>\n",
       "      <th>Low</th>\n",
       "      <th>Close</th>\n",
       "      <th>Volume</th>\n",
       "      <th>TypPrice</th>\n",
       "    </tr>\n",
       "  </thead>\n",
       "  <tbody>\n",
       "    <tr>\n",
       "      <th>0</th>\n",
       "      <td>0.353100</td>\n",
       "      <td>0.402726</td>\n",
       "      <td>0.429165</td>\n",
       "      <td>0.452392</td>\n",
       "      <td>-0.997202</td>\n",
       "      <td>0.449603</td>\n",
       "    </tr>\n",
       "    <tr>\n",
       "      <th>1</th>\n",
       "      <td>0.433064</td>\n",
       "      <td>0.363714</td>\n",
       "      <td>0.432751</td>\n",
       "      <td>0.426879</td>\n",
       "      <td>-0.997238</td>\n",
       "      <td>0.428222</td>\n",
       "    </tr>\n",
       "    <tr>\n",
       "      <th>2</th>\n",
       "      <td>0.447439</td>\n",
       "      <td>0.380750</td>\n",
       "      <td>0.437470</td>\n",
       "      <td>0.410478</td>\n",
       "      <td>-0.995874</td>\n",
       "      <td>0.430360</td>\n",
       "    </tr>\n",
       "    <tr>\n",
       "      <th>3</th>\n",
       "      <td>0.363881</td>\n",
       "      <td>0.404600</td>\n",
       "      <td>0.399717</td>\n",
       "      <td>0.406834</td>\n",
       "      <td>-0.998060</td>\n",
       "      <td>0.425473</td>\n",
       "    </tr>\n",
       "    <tr>\n",
       "      <th>4</th>\n",
       "      <td>0.347709</td>\n",
       "      <td>0.307496</td>\n",
       "      <td>0.367626</td>\n",
       "      <td>0.362187</td>\n",
       "      <td>-0.996625</td>\n",
       "      <td>0.365302</td>\n",
       "    </tr>\n",
       "  </tbody>\n",
       "</table>\n",
       "</div>"
      ],
      "text/plain": [
       "       Open      High       Low     Close    Volume  TypPrice\n",
       "0  0.353100  0.402726  0.429165  0.452392 -0.997202  0.449603\n",
       "1  0.433064  0.363714  0.432751  0.426879 -0.997238  0.428222\n",
       "2  0.447439  0.380750  0.437470  0.410478 -0.995874  0.430360\n",
       "3  0.363881  0.404600  0.399717  0.406834 -0.998060  0.425473\n",
       "4  0.347709  0.307496  0.367626  0.362187 -0.996625  0.365302"
      ]
     },
     "execution_count": 5,
     "metadata": {},
     "output_type": "execute_result"
    }
   ],
   "source": [
    "csv_name=r'MRSN.csv'\n",
    "data, dates, scaler= Stockloader(csv_name,path_name) #type the name of the stock.csv file here\n",
    "#vwap_ind= test_data.columns.get_loc('vwap')\n",
    "typ_ind=data.columns.get_loc('TypPrice')\n",
    "high_ind= data.columns.get_loc('High')\n",
    "low_ind=data.columns.get_loc('Low')\n",
    "data.head()"
   ]
  },
  {
   "cell_type": "markdown",
   "metadata": {},
   "source": [
    "#### Hyperparameters"
   ]
  },
  {
   "cell_type": "code",
   "execution_count": 6,
   "metadata": {},
   "outputs": [],
   "source": [
    "num_pred=4\n",
    "sample_len=4\n",
    "hidden_size=120\n",
    "num_layers=1\n",
    "batch_size=1\n",
    "learning_rate=0.0085\n",
    "num_epochs= 70 #100\n",
    "dropout=0.05\n",
    "weight_decay=0.0001"
   ]
  },
  {
   "cell_type": "code",
   "execution_count": 7,
   "metadata": {},
   "outputs": [],
   "source": [
    "def Extract_XY(data,train_ratio): \n",
    "\n",
    "    if num_pred>sample_len:\n",
    "        print('Error')\n",
    "    else:\n",
    "    \n",
    "        chunk_list=[]\n",
    "        chunk_len=sample_len + num_pred \n",
    "\n",
    "        num_targets=len(data)-chunk_len\n",
    "\n",
    "        for timestep in range(num_targets):\n",
    "            end_index=chunk_len+timestep\n",
    "            chunk_list.append(data.iloc[timestep:end_index,:].values)\n",
    "\n",
    "        chunks=np.array(chunk_list)\n",
    "\n",
    "        train_data=chunks[:round(train_ratio*data.shape[0])]\n",
    "        test_data=chunks[round(train_ratio*data.shape[0]):]\n",
    "\n",
    "        train_inputs=train_data[:,:-num_pred,:]\n",
    "        train_targets=train_data[:,-num_pred:,:]\n",
    "\n",
    "        test_inputs=test_data[:,:-num_pred,:]\n",
    "        test_targets=test_data[:,-num_pred:,:]\n",
    "\n",
    "    return train_inputs,train_targets, test_inputs, test_targets"
   ]
  },
  {
   "cell_type": "code",
   "execution_count": 8,
   "metadata": {},
   "outputs": [],
   "source": [
    "def Tensify(data,train_ratio):\n",
    "    tensor_list=[]\n",
    "    train_inputs, train_targets, test_inputs, test_targets = Extract_XY(data,train_ratio)\n",
    "    \n",
    "    data_list=[train_inputs,train_targets,test_inputs,test_targets]\n",
    "    \n",
    "    for data in data_list:\n",
    "        tensor_list.append(torch.Tensor(data)) \n",
    "        \n",
    "    train_inputs=tensor_list[0]\n",
    "    train_targets=tensor_list[1]\n",
    "    test_inputs=tensor_list[2]\n",
    "    test_targets=tensor_list[3]\n",
    "    \n",
    "    return train_inputs,train_targets,test_inputs,test_targets"
   ]
  },
  {
   "cell_type": "code",
   "execution_count": 9,
   "metadata": {},
   "outputs": [
    {
     "name": "stdout",
     "output_type": "stream",
     "text": [
      "torch.Size([515, 4, 6]) torch.Size([515, 4, 6]) torch.Size([121, 4, 6]) torch.Size([121, 4, 6])\n"
     ]
    }
   ],
   "source": [
    "train_inputs, train_targets, test_inputs, test_targets= Tensify(data,0.8)\n",
    "\n",
    "#input dimensions= (num_samples,sample_len, num_features), output dimensions= (num_samples,num_features)\n",
    "print(train_inputs.shape,train_targets.shape,test_inputs.shape,test_targets.shape)"
   ]
  },
  {
   "cell_type": "markdown",
   "metadata": {},
   "source": [
    "class StockDataset(torch.utils.data.Dataset):\n",
    "    def __init__(self,inputs, targets):\n",
    "        super(StockDataset).__init__()\n",
    "        self.inputs=inputs\n",
    "        self.targets=targets\n",
    "    \n",
    "    def __getitem__(self,idx):\n",
    "        return self.inputs[idx], self.targets[idx]\n",
    "    \n",
    "    def __len__(self):\n",
    "        return len(self.inputs)"
   ]
  },
  {
   "cell_type": "markdown",
   "metadata": {},
   "source": [
    "training_dataset=torch.utils.data.TensorDataset(train_inputs,train_targets)\n",
    "testing_dataset=torch.utils.data.TensorDataset(test_inputs,test_targets)\n",
    "training_loader=DataLoader(training_dataset,batch_size=batch_size,shuffle=True)\n",
    "testing_loader=DataLoader(testing_dataset,batch_size=batch_size,shuffle=True)\n",
    "\n",
    "\n",
    "train_dataset=StockDataset(train_inputs,train_targets)\n",
    "test_dataset=StockDataset(test_inputs,test_targets)\n",
    "train_loader=DataLoader(train_dataset,batch_size=batch_size,shuffle=True)\n",
    "test_loader=DataLoader(test_dataset,batch_size=batch_size,shuffle=True)"
   ]
  },
  {
   "cell_type": "code",
   "execution_count": 10,
   "metadata": {},
   "outputs": [
    {
     "data": {
      "text/plain": [
       "net(\n",
       "  (dropout): Dropout(p=0.05, inplace=False)\n",
       "  (lstm): LSTM(6, 120)\n",
       "  (linear): Linear(in_features=120, out_features=6, bias=True)\n",
       ")"
      ]
     },
     "execution_count": 10,
     "metadata": {},
     "output_type": "execute_result"
    }
   ],
   "source": [
    "#lstm\n",
    "class net(nn.Module):\n",
    "    def __init__(self,hidden_size,num_layers,dropout,batch_first=True):#batch_first=True\n",
    "        super(net,self).__init__()\n",
    "        self.hidden_size=hidden_size\n",
    "        self.num_layers=num_layers\n",
    "        self.input_size=train_inputs.shape[2] #number of features\n",
    "        self.output_size= self.input_size #should = input_size\n",
    "        \n",
    "        self.dropout=nn.Dropout(dropout)\n",
    "        self.lstm=nn.LSTM(self.input_size,self.hidden_size,self.num_layers,batch_first)\n",
    "        self.linear=nn.Linear(self.hidden_size, self.output_size) #hidden is the input to this function\n",
    "        \n",
    "    def init_states(self, inputs):\n",
    "        hidden=torch.zeros(self.num_layers,train_inputs.shape[1], self.hidden_size).to(device)\n",
    "        cell= torch.zeros(self.num_layers, train_inputs.shape[1], self.hidden_size).to(device)\n",
    "        return hidden, cell\n",
    "    \n",
    "    def forward(self, inputs,hidden, cell):\n",
    "        output, (hidden,cell) =self.lstm(inputs, (hidden.detach(), cell.detach()))\n",
    "        output= self.dropout(output)\n",
    "        output= self.linear(output[:,-num_pred:,]) #shape has to be the same as target shape\n",
    "        return output,(hidden,cell)\n",
    "\n",
    "model=net(hidden_size, num_layers,dropout)\n",
    "model.to(device)"
   ]
  },
  {
   "cell_type": "markdown",
   "metadata": {},
   "source": [
    "#### Training and Evaluation Steps"
   ]
  },
  {
   "cell_type": "code",
   "execution_count": 11,
   "metadata": {},
   "outputs": [],
   "source": [
    "##pick optimizer and loss function\n",
    "loss_func = nn.MSELoss()\n",
    "optimizer  = torch.optim.Adam(model.parameters(), lr=learning_rate,weight_decay=weight_decay)"
   ]
  },
  {
   "cell_type": "code",
   "execution_count": 12,
   "metadata": {},
   "outputs": [],
   "source": [
    "def train_step(inputs, targets):\n",
    "    hidden, cell= model.init_states(inputs) #can choose to keep updating a new one\n",
    "    \n",
    "    model.zero_grad()\n",
    "    loss=0\n",
    "    \n",
    "    output, (hidden, cell)= model(inputs,hidden,cell)\n",
    "    loss=loss_func(output,targets)\n",
    "    \n",
    "    loss.backward()#(retain_graph=True)\n",
    "    optimizer.step()\n",
    "    \n",
    "    avg_loss=loss/sample_len\n",
    "    \n",
    "    return avg_loss, output, (hidden,cell)"
   ]
  },
  {
   "cell_type": "code",
   "execution_count": 13,
   "metadata": {},
   "outputs": [],
   "source": [
    "def stateless_step(inputs,targets, hidden, cell): \n",
    "    \n",
    "    loss=0\n",
    "    model.eval()\n",
    "\n",
    "    hidden, cell=model.init_states(test_inputs) #don't initialize if u want stateful\n",
    "\n",
    "    \n",
    "    #for test_inputs, test_targets in test_loader:\n",
    "        #test_inputs,test_targets=test_inputs.to(device), test_targets.to(device)\n",
    "    \n",
    "     \n",
    "    evals, (hidden,cell)= model(test_inputs, hidden, cell) \n",
    "    \n",
    "    loss=loss_func(evals,targets)\n",
    "    \n",
    "    avg_loss=loss/sample_len/len(targets)\n",
    "    \n",
    "    \n",
    "    return evals, avg_loss"
   ]
  },
  {
   "cell_type": "code",
   "execution_count": 14,
   "metadata": {},
   "outputs": [],
   "source": [
    "def stateful_step(inputs,targets,hidden, cell): \n",
    "    \n",
    "    loss=0\n",
    "    \n",
    "    model.eval()\n",
    "\n",
    "    #hidden, cell=model.init_states(test_inputs) #don't initialize if u want stateful\n",
    "\n",
    "    \n",
    "    #for test_inputs, test_targets in test_loader:\n",
    "        #test_inputs,test_targets=test_inputs.to(device), test_targets.to(device)\n",
    "    \n",
    "     \n",
    "    evals, (hidden,cell)= model(inputs, hidden, cell) \n",
    "    \n",
    "    loss=loss_func(evals,targets)\n",
    "    \n",
    "    avg_loss=loss/sample_len/len(targets)\n",
    "    \n",
    "    return evals, avg_loss"
   ]
  },
  {
   "cell_type": "code",
   "execution_count": 15,
   "metadata": {
    "scrolled": true
   },
   "outputs": [],
   "source": [
    "train_inputs,train_targets,test_inputs,test_targets=train_inputs.to(device),train_targets.to(device),test_inputs.to(device),test_targets.to(device)\n",
    "train_losses=[]\n",
    "loss_sum=0\n",
    "for epoch in range(num_epochs):\n",
    "    #for train_inputs, train_targets in train_loader:\n",
    "    #for train_inputs, train_targets in training_loader:\n",
    "    #train_inputs,train_targets=train_inputs.to(device),train_targets.to(device)\n",
    "    avg_loss, output, (hidden,cell)=train_step(train_inputs,train_targets)\n",
    "    loss_sum+=avg_loss\n",
    "    if (epoch % 5) == 4: \n",
    "        train_losses.append(loss_sum/5)\n",
    "        loss_sum=0\n",
    "\n",
    "ful_evals, ful_loss=stateful_step(test_inputs,test_targets,hidden, cell)\n",
    "less_evals, less_loss=stateless_step(test_inputs,test_targets,hidden, cell)"
   ]
  },
  {
   "cell_type": "code",
   "execution_count": 16,
   "metadata": {
    "scrolled": true
   },
   "outputs": [
    {
     "data": {
      "text/plain": [
       "Text(0.5, 1.0, 'Training Loss Over Epochs')"
      ]
     },
     "execution_count": 16,
     "metadata": {},
     "output_type": "execute_result"
    },
    {
     "data": {
      "image/png": "[encoded data removed]",
      "text/plain": [
       "<Figure size 432x288 with 1 Axes>"
      ]
     },
     "metadata": {
      "needs_background": "light"
     },
     "output_type": "display_data"
    }
   ],
   "source": [
    "plt.plot(train_losses)\n",
    "plt.title('Training Loss Over Epochs')"
   ]
  },
  {
   "cell_type": "code",
   "execution_count": 17,
   "metadata": {},
   "outputs": [
    {
     "data": {
      "image/png": "[encoded data removed]",
      "text/plain": [
       "<Figure size 432x288 with 1 Axes>"
      ]
     },
     "metadata": {
      "needs_background": "light"
     },
     "output_type": "display_data"
    }
   ],
   "source": [
    "plt.title('Train Predictions vs Actual ')\n",
    "plt.plot(output[:,-1,high_ind].cpu().detach().numpy(), label=\"Predicted\")\n",
    "plt.plot(train_targets[:,-1,high_ind].cpu().detach().numpy(),label='Actual')\n",
    "plt.ylabel('typical_price')\n",
    "plt.xlabel('timestep')\n",
    "plt.legend()\n",
    "plt.show()"
   ]
  },
  {
   "cell_type": "code",
   "execution_count": 18,
   "metadata": {},
   "outputs": [],
   "source": [
    "def ScatterTime(evals,test_targets):\n",
    "    empty=[]\n",
    "    for i in evals[::num_pred]:\n",
    "        for t in range(len(i)):\n",
    "            empty.append(i[t])\n",
    "\n",
    "    abyss=[]\n",
    "    for i in test_targets[::num_pred]:\n",
    "        for t in range(len(i)):\n",
    "            abyss.append(i[t])\n",
    "\n",
    "    void=torch.Tensor([t.cpu().detach().numpy() for t in empty])\n",
    "    nothing=torch.Tensor([g.cpu().detach().numpy() for g in abyss])\n",
    "    return void, nothing"
   ]
  },
  {
   "cell_type": "code",
   "execution_count": 19,
   "metadata": {},
   "outputs": [],
   "source": [
    "sctrful_evals, sctr_targets=ScatterTime(ful_evals,test_targets)\n",
    "sctrless_evals, sctr_targets=ScatterTime(less_evals,test_targets)"
   ]
  },
  {
   "cell_type": "code",
   "execution_count": 20,
   "metadata": {},
   "outputs": [
    {
     "data": {
      "image/png": "[encoded data removed]",
      "text/plain": [
       "<Figure size 432x288 with 1 Axes>"
      ]
     },
     "metadata": {
      "needs_background": "light"
     },
     "output_type": "display_data"
    }
   ],
   "source": [
    "plt.title('Stateful Test Predictions vs. Actual')\n",
    "#plt.plot(restored_evals[:,high_ind], 'g',label='Predicted')\n",
    "#plt.plot(restored_test_targets[:,high_ind],'r',label='Actual')\n",
    "plt.plot(sctrful_evals[:,high_ind].cpu().detach().numpy(), 'g',label='Predicted')\n",
    "plt.plot(sctr_targets[:,high_ind].cpu().detach().numpy(), 'r',label='Actual')\n",
    "plt.ylabel('High')\n",
    "plt.xlabel('Day')\n",
    "plt.legend()\n",
    "plt.show()"
   ]
  },
  {
   "cell_type": "code",
   "execution_count": 21,
   "metadata": {},
   "outputs": [
    {
     "data": {
      "image/png": "[encoded data removed]",
      "text/plain": [
       "<Figure size 432x288 with 1 Axes>"
      ]
     },
     "metadata": {
      "needs_background": "light"
     },
     "output_type": "display_data"
    }
   ],
   "source": [
    "plt.title('Stateless Test Predictions vs. Actual')\n",
    "#plt.plot(restored_evals[:,high_ind], 'g',label='Predicted')\n",
    "#plt.plot(restored_test_targets[:,high_ind],'r',label='Actual')\n",
    "plt.plot(sctrless_evals[:,high_ind].cpu().detach().numpy(), 'b',label='Predicted')\n",
    "plt.plot(sctr_targets[:,high_ind].cpu().detach().numpy(), 'r',label='Actual')\n",
    "plt.ylabel('High')\n",
    "plt.xlabel('Day')\n",
    "plt.legend()\n",
    "plt.show()"
   ]
  },
  {
   "cell_type": "code",
   "execution_count": 22,
   "metadata": {},
   "outputs": [
    {
     "name": "stdout",
     "output_type": "stream",
     "text": [
      "Stateful model is better\n",
      "tensor(0.0001, device='cuda:0', grad_fn=<DivBackward0>)\n"
     ]
    }
   ],
   "source": [
    "if ful_loss > less_loss:\n",
    "    print('Stateless model is better')\n",
    "    print(less_loss)\n",
    "else:\n",
    "    print('Stateful model is better')\n",
    "    print(ful_loss)"
   ]
  },
  {
   "cell_type": "code",
   "execution_count": 23,
   "metadata": {},
   "outputs": [],
   "source": [
    "def StockPredictor(train_inputs,data,hidden,cell,csv_name): \n",
    "    \n",
    "    retrain=torch.Tensor(data[-sample_len:].values).to(device)\n",
    "    \n",
    "    if ful_loss > less_loss:\n",
    "        hidden,cell=model.init_states(train_inputs)\n",
    "        \n",
    "    pred, (hidden,cell)=model(retrain.view(-1,retrain.shape[0],retrain.shape[1]),hidden,cell)\n",
    "    rescaled_pred=scaler.inverse_transform(pred.view(pred.shape[1],pred.shape[2]).cpu().detach())\n",
    "    \n",
    "    high=rescaled_pred[:,high_ind]\n",
    "    low=rescaled_pred[:,low_ind]\n",
    "    \n",
    "    for day in range(len(high)):\n",
    "        if day<high.shape[0]-1:\n",
    "            \n",
    "            if high[day] > high[day+1]:\n",
    "                print('Sell for day',day,'at',high[day])\n",
    "            elif high[day] == high[day+1]:\n",
    "                print('Hold for day',day)\n",
    "            elif high[day] < high[day+1]:\n",
    "                print('Hold/buy for day',day,'at',low[day])        \n",
    "            else:\n",
    "                break\n",
    "    \n",
    "    plt.title('Stock Forecast for'+ ' '+ csv_name)\n",
    "    plt.plot(high)\n",
    "    plt.ylabel(data.columns[high_ind])\n",
    "    plt.xlabel('Day')"
   ]
  },
  {
   "cell_type": "code",
   "execution_count": 24,
   "metadata": {},
   "outputs": [
    {
     "name": "stdout",
     "output_type": "stream",
     "text": [
      "Sell for day 0 at 17.563966364540637\n",
      "Sell for day 1 at 17.54174098494731\n",
      "Hold/buy for day 2 at 15.762716030329466\n"
     ]
    },
    {
     "data": {
      "image/png": "[encoded data removed]",
      "text/plain": [
       "<Figure size 432x288 with 1 Axes>"
      ]
     },
     "metadata": {
      "needs_background": "light"
     },
     "output_type": "display_data"
    }
   ],
   "source": [
    "StockPredictor(train_inputs,data,hidden,cell,csv_name)"
   ]
  }
 ],
 "metadata": {
  "kernelspec": {
   "display_name": "Python 3",
   "language": "python",
   "name": "python3"
  },
  "language_info": {
   "codemirror_mode": {
    "name": "ipython",
    "version": 3
   },
   "file_extension": ".py",
   "mimetype": "text/x-python",
   "name": "python",
   "nbconvert_exporter": "python",
   "pygments_lexer": "ipython3",
   "version": "3.7.3"
  }
 },
 "nbformat": 4,
 "nbformat_minor": 2
}
