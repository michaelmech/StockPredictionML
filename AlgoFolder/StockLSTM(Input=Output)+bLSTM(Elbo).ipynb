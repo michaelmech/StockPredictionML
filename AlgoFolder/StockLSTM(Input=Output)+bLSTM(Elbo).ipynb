{
  "nbformat": 4,
  "nbformat_minor": 0,
  "metadata": {
    "kernelspec": {
      "display_name": "Python 3",
      "language": "python",
      "name": "python3"
    },
    "language_info": {
      "codemirror_mode": {
        "name": "ipython",
        "version": 3
      },
      "file_extension": ".py",
      "mimetype": "text/x-python",
      "name": "python",
      "nbconvert_exporter": "python",
      "pygments_lexer": "ipython3",
      "version": "3.7.3"
    },
    "colab": {
      "name": "StockLSTM(Input=Output)+bLSTM(Elbo)",
      "provenance": []
    }
  },
  "cells": [
    {
      "cell_type": "code",
      "metadata": {
        "id": "HgeB5zZzOywb",
        "colab_type": "code",
        "colab": {}
      },
      "source": [
        "import os\n",
        "os.environ['CUDA_LAUNCH_BLOCKING'] = \"1\""
      ],
      "execution_count": null,
      "outputs": []
    },
    {
      "cell_type": "code",
      "metadata": {
        "id": "L0MZ4eiJPBEc",
        "colab_type": "code",
        "colab": {
          "base_uri": "https://localhost:8080/",
          "height": 193
        },
        "outputId": "182c61fa-6400-40e9-c02d-7844a24315c4"
      },
      "source": [
        "pip install blitz-bayesian-pytorch"
      ],
      "execution_count": null,
      "outputs": [
        {
          "output_type": "stream",
          "text": [
            "Requirement already satisfied: blitz-bayesian-pytorch in /usr/local/lib/python3.6/dist-packages (0.2.5)\n",
            "Requirement already satisfied: numpy in /usr/local/lib/python3.6/dist-packages (from blitz-bayesian-pytorch) (1.18.5)\n",
            "Requirement already satisfied: scikit-learn==0.22.2 in /usr/local/lib/python3.6/dist-packages (from blitz-bayesian-pytorch) (0.22.2)\n",
            "Requirement already satisfied: pillow==7.0 in /usr/local/lib/python3.6/dist-packages (from blitz-bayesian-pytorch) (7.0.0)\n",
            "Requirement already satisfied: torch==1.4.0 in /usr/local/lib/python3.6/dist-packages (from blitz-bayesian-pytorch) (1.4.0)\n",
            "Requirement already satisfied: torchvision==0.5.0 in /usr/local/lib/python3.6/dist-packages (from blitz-bayesian-pytorch) (0.5.0)\n",
            "Requirement already satisfied: joblib>=0.11 in /usr/local/lib/python3.6/dist-packages (from scikit-learn==0.22.2->blitz-bayesian-pytorch) (0.16.0)\n",
            "Requirement already satisfied: scipy>=0.17.0 in /usr/local/lib/python3.6/dist-packages (from scikit-learn==0.22.2->blitz-bayesian-pytorch) (1.4.1)\n",
            "Requirement already satisfied: six in /usr/local/lib/python3.6/dist-packages (from torchvision==0.5.0->blitz-bayesian-pytorch) (1.15.0)\n"
          ],
          "name": "stdout"
        }
      ]
    },
    {
      "cell_type": "code",
      "metadata": {
        "id": "9_3rKUpDQi4E",
        "colab_type": "code",
        "colab": {
          "base_uri": "https://localhost:8080/",
          "height": 245
        },
        "outputId": "7ebf5e42-a33e-44dd-b069-23a6456e0b6c"
      },
      "source": [
        "pip install yfinance"
      ],
      "execution_count": null,
      "outputs": [
        {
          "output_type": "stream",
          "text": [
            "Requirement already satisfied: yfinance in /usr/local/lib/python3.6/dist-packages (0.1.54)\n",
            "Requirement already satisfied: numpy>=1.15 in /usr/local/lib/python3.6/dist-packages (from yfinance) (1.18.5)\n",
            "Requirement already satisfied: requests>=2.20 in /usr/local/lib/python3.6/dist-packages (from yfinance) (2.23.0)\n",
            "Requirement already satisfied: pandas>=0.24 in /usr/local/lib/python3.6/dist-packages (from yfinance) (1.0.5)\n",
            "Requirement already satisfied: multitasking>=0.0.7 in /usr/local/lib/python3.6/dist-packages (from yfinance) (0.0.9)\n",
            "Requirement already satisfied: idna<3,>=2.5 in /usr/local/lib/python3.6/dist-packages (from requests>=2.20->yfinance) (2.10)\n",
            "Requirement already satisfied: certifi>=2017.4.17 in /usr/local/lib/python3.6/dist-packages (from requests>=2.20->yfinance) (2020.6.20)\n",
            "Requirement already satisfied: urllib3!=1.25.0,!=1.25.1,<1.26,>=1.21.1 in /usr/local/lib/python3.6/dist-packages (from requests>=2.20->yfinance) (1.24.3)\n",
            "Requirement already satisfied: chardet<4,>=3.0.2 in /usr/local/lib/python3.6/dist-packages (from requests>=2.20->yfinance) (3.0.4)\n",
            "Requirement already satisfied: python-dateutil>=2.6.1 in /usr/local/lib/python3.6/dist-packages (from pandas>=0.24->yfinance) (2.8.1)\n",
            "Requirement already satisfied: pytz>=2017.2 in /usr/local/lib/python3.6/dist-packages (from pandas>=0.24->yfinance) (2018.9)\n",
            "Requirement already satisfied: six>=1.5 in /usr/local/lib/python3.6/dist-packages (from python-dateutil>=2.6.1->pandas>=0.24->yfinance) (1.15.0)\n"
          ],
          "name": "stdout"
        }
      ]
    },
    {
      "cell_type": "code",
      "metadata": {
        "id": "Ryk0_pj-Oywm",
        "colab_type": "code",
        "colab": {}
      },
      "source": [
        "import pandas as pd\n",
        "import numpy as np\n",
        "import torch\n",
        "import torch.nn as nn\n",
        "import matplotlib.pyplot as plt\n",
        "from torch.utils.data import Dataset, DataLoader\n",
        "from sklearn.preprocessing import MinMaxScaler\n",
        "import blitz\n",
        "from blitz.modules import BayesianLSTM\n",
        "from blitz.modules import BayesianLinear\n",
        "from blitz.utils import variational_estimator\n",
        "import yfinance as yf"
      ],
      "execution_count": null,
      "outputs": []
    },
    {
      "cell_type": "markdown",
      "metadata": {
        "id": "pBzkKKfgOyws",
        "colab_type": "text"
      },
      "source": [
        "#### Pick Device"
      ]
    },
    {
      "cell_type": "code",
      "metadata": {
        "id": "OltGtrqyOywt",
        "colab_type": "code",
        "colab": {
          "base_uri": "https://localhost:8080/",
          "height": 35
        },
        "outputId": "b335fddf-d799-41cd-add0-ea2fe6ad059c"
      },
      "source": [
        "device = torch.device(\"cuda:0\" if torch.cuda.is_available() else \"cpu\")\n",
        "print(device)"
      ],
      "execution_count": null,
      "outputs": [
        {
          "output_type": "stream",
          "text": [
            "cpu\n"
          ],
          "name": "stdout"
        }
      ]
    },
    {
      "cell_type": "code",
      "metadata": {
        "id": "w5PwUsRmOyw6",
        "colab_type": "code",
        "colab": {}
      },
      "source": [
        "#using data from Yahoo, with date starting from January 2018\n",
        "def Stockloader(stock_symbol): \n",
        "    orig_data=yf.Ticker(stock_symbol).history(period='3Y')\n",
        "    \n",
        "    orig_data['TypPrice']=  (orig_data['High'] + orig_data['Low'] + orig_data['Close'] ) /3\n",
        "\n",
        "            \n",
        "    pre_data=orig_data.drop(['Dividends','Stock Splits'],axis=1) #'Date'\n",
        "    \n",
        "    labels=pre_data.columns\n",
        "    scaler=MinMaxScaler(feature_range=(-1,1))\n",
        "    scaled_data=scaler.fit_transform(pre_data)\n",
        "    data=pd.DataFrame(scaled_data,columns=labels)\n",
        "\n",
        "    return data, scaler"
      ],
      "execution_count": null,
      "outputs": []
    },
    {
      "cell_type": "markdown",
      "metadata": {
        "id": "l7_quBiFyTRy",
        "colab_type": "text"
      },
      "source": [
        "####Insert stock_symbol here"
      ]
    },
    {
      "cell_type": "code",
      "metadata": {
        "id": "LIVAj_rgPH-3",
        "colab_type": "code",
        "colab": {
          "base_uri": "https://localhost:8080/",
          "height": 202
        },
        "outputId": "e5f3af13-172f-48ce-ed83-1680af5c8aba"
      },
      "source": [
        "#stock symbol is an all caps string\n",
        "stock_symbol= 'NVDA'\n",
        "data, scaler=Stockloader(stock_symbol)\n",
        "typ_ind=data.columns.get_loc('TypPrice')\n",
        "high_ind= data.columns.get_loc('High')\n",
        "low_ind=data.columns.get_loc('Low')\n",
        "data.head()"
      ],
      "execution_count": null,
      "outputs": [
        {
          "output_type": "execute_result",
          "data": {
            "text/html": [
              "<div>\n",
              "<style scoped>\n",
              "    .dataframe tbody tr th:only-of-type {\n",
              "        vertical-align: middle;\n",
              "    }\n",
              "\n",
              "    .dataframe tbody tr th {\n",
              "        vertical-align: top;\n",
              "    }\n",
              "\n",
              "    .dataframe thead th {\n",
              "        text-align: right;\n",
              "    }\n",
              "</style>\n",
              "<table border=\"1\" class=\"dataframe\">\n",
              "  <thead>\n",
              "    <tr style=\"text-align: right;\">\n",
              "      <th></th>\n",
              "      <th>Open</th>\n",
              "      <th>High</th>\n",
              "      <th>Low</th>\n",
              "      <th>Close</th>\n",
              "      <th>Volume</th>\n",
              "      <th>TypPrice</th>\n",
              "    </tr>\n",
              "  </thead>\n",
              "  <tbody>\n",
              "    <tr>\n",
              "      <th>0</th>\n",
              "      <td>-0.747994</td>\n",
              "      <td>-0.765041</td>\n",
              "      <td>-0.757775</td>\n",
              "      <td>-0.764950</td>\n",
              "      <td>-0.645286</td>\n",
              "      <td>-0.760870</td>\n",
              "    </tr>\n",
              "    <tr>\n",
              "      <th>1</th>\n",
              "      <td>-0.766657</td>\n",
              "      <td>-0.777146</td>\n",
              "      <td>-0.755166</td>\n",
              "      <td>-0.751548</td>\n",
              "      <td>-0.753425</td>\n",
              "      <td>-0.759689</td>\n",
              "    </tr>\n",
              "    <tr>\n",
              "      <th>2</th>\n",
              "      <td>-0.742624</td>\n",
              "      <td>-0.768282</td>\n",
              "      <td>-0.753313</td>\n",
              "      <td>-0.752228</td>\n",
              "      <td>-0.713756</td>\n",
              "      <td>-0.756261</td>\n",
              "    </tr>\n",
              "    <tr>\n",
              "      <th>3</th>\n",
              "      <td>-0.751754</td>\n",
              "      <td>-0.763519</td>\n",
              "      <td>-0.736972</td>\n",
              "      <td>-0.738145</td>\n",
              "      <td>-0.744122</td>\n",
              "      <td>-0.744522</td>\n",
              "    </tr>\n",
              "    <tr>\n",
              "      <th>4</th>\n",
              "      <td>-0.731615</td>\n",
              "      <td>-0.741029</td>\n",
              "      <td>-0.717885</td>\n",
              "      <td>-0.733247</td>\n",
              "      <td>-0.620484</td>\n",
              "      <td>-0.728856</td>\n",
              "    </tr>\n",
              "  </tbody>\n",
              "</table>\n",
              "</div>"
            ],
            "text/plain": [
              "       Open      High       Low     Close    Volume  TypPrice\n",
              "0 -0.747994 -0.765041 -0.757775 -0.764950 -0.645286 -0.760870\n",
              "1 -0.766657 -0.777146 -0.755166 -0.751548 -0.753425 -0.759689\n",
              "2 -0.742624 -0.768282 -0.753313 -0.752228 -0.713756 -0.756261\n",
              "3 -0.751754 -0.763519 -0.736972 -0.738145 -0.744122 -0.744522\n",
              "4 -0.731615 -0.741029 -0.717885 -0.733247 -0.620484 -0.728856"
            ]
          },
          "metadata": {
            "tags": []
          },
          "execution_count": 7
        }
      ]
    },
    {
      "cell_type": "markdown",
      "metadata": {
        "id": "h6fzvU1MOyxH",
        "colab_type": "text"
      },
      "source": [
        "#### Hyperparameters"
      ]
    },
    {
      "cell_type": "code",
      "metadata": {
        "id": "8UMyH9fZOyxJ",
        "colab_type": "code",
        "colab": {}
      },
      "source": [
        "sample_len=4\n",
        "hidden_size=120\n",
        "#num_layers=1\n",
        "batch_size=1\n",
        "learning_rate=0.001\n",
        "num_epochs= 1000 #100\n",
        "dropout=0.2\n",
        "#weight_decay=0.0001"
      ],
      "execution_count": null,
      "outputs": []
    },
    {
      "cell_type": "code",
      "metadata": {
        "id": "t0cq4OLSOyxN",
        "colab_type": "code",
        "colab": {}
      },
      "source": [
        "def Extract_XY(data,train_ratio):\n",
        "    chunk_list=[]\n",
        "\n",
        "    num_targets=len(data)-sample_len\n",
        "\n",
        "    for timestep in range(num_targets):\n",
        "        end_index=timestep+sample_len+1 #targets are only '1' index ahead of inputs\n",
        "        chunk_list.append(data.iloc[timestep:end_index,:].values)\n",
        "\n",
        "    chunks=np.array(chunk_list)\n",
        "\n",
        "    train_data=chunks[:round(train_ratio*data.shape[0])]\n",
        "    test_data=chunks[round(train_ratio*data.shape[0]):]\n",
        "\n",
        "    train_inputs=train_data[:,:-1,:]\n",
        "    train_targets=train_data[:][:,1:,:]\n",
        "\n",
        "    test_inputs=test_data[:][:,:-1,:]\n",
        "    test_targets=test_data[:][:,1:,:]\n",
        "\n",
        "    return train_inputs,train_targets, test_inputs, test_targets\n"
      ],
      "execution_count": null,
      "outputs": []
    },
    {
      "cell_type": "code",
      "metadata": {
        "id": "2Ur6vwQMOyxY",
        "colab_type": "code",
        "colab": {}
      },
      "source": [
        "def Tensify(data,train_ratio):\n",
        "    tensor_list=[]\n",
        "    train_inputs, train_targets, test_inputs, test_targets = Extract_XY(data,train_ratio)\n",
        "    \n",
        "    data_list=[train_inputs,train_targets,test_inputs,test_targets]\n",
        "    \n",
        "    for data in data_list:\n",
        "        tensor_list.append(torch.Tensor(data)) \n",
        "        \n",
        "    train_inputs=tensor_list[0]\n",
        "    train_targets=tensor_list[1]\n",
        "    test_inputs=tensor_list[2]\n",
        "    test_targets=tensor_list[3]\n",
        "    \n",
        "    return train_inputs,train_targets,test_inputs,test_targets"
      ],
      "execution_count": null,
      "outputs": []
    },
    {
      "cell_type": "code",
      "metadata": {
        "id": "kfwzsdNsOyxc",
        "colab_type": "code",
        "colab": {
          "base_uri": "https://localhost:8080/",
          "height": 35
        },
        "outputId": "8f3de299-79a6-499b-9782-28f062dd6c31"
      },
      "source": [
        "train_inputs, train_targets, test_inputs, test_targets= Tensify(data,0.8)\n",
        "\n",
        "#input dimensions= (num_samples,sample_len, num_features), output dimensions= (num_samples,num_features)\n",
        "print(train_inputs.shape,train_targets.shape,test_inputs.shape,test_targets.shape)"
      ],
      "execution_count": null,
      "outputs": [
        {
          "output_type": "stream",
          "text": [
            "torch.Size([603, 4, 6]) torch.Size([603, 4, 6]) torch.Size([147, 4, 6]) torch.Size([147, 4, 6])\n"
          ],
          "name": "stdout"
        }
      ]
    },
    {
      "cell_type": "code",
      "metadata": {
        "id": "RpfgMXJaOyxj",
        "colab_type": "code",
        "colab": {
          "base_uri": "https://localhost:8080/",
          "height": 225
        },
        "outputId": "289fe4ca-2b77-4000-c026-f7e53409dd88"
      },
      "source": [
        "@variational_estimator\n",
        "class net(nn.Module):\n",
        "    def __init__(self,hidden_size,dropout,batch_first=True):#batch_first=True\n",
        "        super(net,self).__init__()\n",
        "        self.hidden_size=hidden_size\n",
        "      \n",
        "        self.input_size=train_inputs.shape[2] #number of features\n",
        "        self.output_size= self.input_size #should = input_size, but change to 1 if we're interested in only 1 feature\n",
        "        \n",
        "        self.dropout=nn.Dropout(dropout)\n",
        "        self.lstm=BayesianLSTM(self.input_size,self.hidden_size)\n",
        "        #self.linear=BayesianLinear(self.hidden_size,self.output_size)\n",
        "        self.linear=nn.Linear(self.hidden_size,self.output_size)\n",
        "\n",
        "    def forward(self, inputs):\n",
        "        output, (hidden,cell) =self.lstm(inputs)\n",
        "        output=self.dropout(output)\n",
        "        output= self.linear(output) \n",
        "        return output\n",
        "\n",
        "model=net(hidden_size,dropout)\n",
        "model.to(device)"
      ],
      "execution_count": null,
      "outputs": [
        {
          "output_type": "execute_result",
          "data": {
            "text/plain": [
              "net(\n",
              "  (dropout): Dropout(p=0.2, inplace=False)\n",
              "  (lstm): BayesianLSTM(\n",
              "    (weight_ih_sampler): TrainableRandomDistribution()\n",
              "    (weight_hh_sampler): TrainableRandomDistribution()\n",
              "    (bias_sampler): TrainableRandomDistribution()\n",
              "    (weight_ih_prior_dist): PriorWeightDistribution()\n",
              "    (weight_hh_prior_dist): PriorWeightDistribution()\n",
              "    (bias_prior_dist): PriorWeightDistribution()\n",
              "  )\n",
              "  (linear): Linear(in_features=120, out_features=6, bias=True)\n",
              ")"
            ]
          },
          "metadata": {
            "tags": []
          },
          "execution_count": 12
        }
      ]
    },
    {
      "cell_type": "markdown",
      "metadata": {
        "id": "UDNfcRHtOyxr",
        "colab_type": "text"
      },
      "source": [
        "#### Training and Evaluation Steps"
      ]
    },
    {
      "cell_type": "code",
      "metadata": {
        "id": "_hp83xmgOyxt",
        "colab_type": "code",
        "colab": {}
      },
      "source": [
        "##pick optimizer and loss function\n",
        "loss_func = nn.MSELoss()\n",
        "optimizer  = torch.optim.Adam(model.parameters(), lr=learning_rate)#weight_decay=weight_decay)"
      ],
      "execution_count": null,
      "outputs": []
    },
    {
      "cell_type": "code",
      "metadata": {
        "id": "HngcdMs4Oyxx",
        "colab_type": "code",
        "colab": {}
      },
      "source": [
        "def train_step(inputs, targets):\n",
        "    \n",
        "    model.zero_grad()\n",
        "    \n",
        "    loss = model.sample_elbo(inputs,targets,loss_func,sample_nbr=3,complexity_cost_weight=1/inputs.shape[0])\n",
        "    \n",
        "    loss.backward()#(retain_graph=True)\n",
        "    optimizer.step()\n",
        "    \n",
        "    avg_loss=loss/sample_len\n",
        "    \n",
        "    return avg_loss"
      ],
      "execution_count": null,
      "outputs": []
    },
    {
      "cell_type": "code",
      "metadata": {
        "id": "w6kAN9BOOyx-",
        "colab_type": "code",
        "colab": {}
      },
      "source": [
        "def eval_step(inputs,targets):\n",
        "    \n",
        "    model.eval()\n",
        "\n",
        "    \n",
        "    #for test_inputs, test_targets in test_loader:\n",
        "        #test_inputs,test_targets=test_inputs.to(device), test_targets.to(device)\n",
        "    \n",
        "     \n",
        "    evals,_= model.mfvi_forward(inputs,sample_nbr=10)\n",
        "    \n",
        "    loss=loss_func(evals,targets)\n",
        "    \n",
        "    avg_loss=loss/sample_len/len(targets)\n",
        "    \n",
        "    \n",
        "    return evals, avg_loss"
      ],
      "execution_count": null,
      "outputs": []
    },
    {
      "cell_type": "code",
      "metadata": {
        "scrolled": true,
        "id": "DiWtdENwOyyL",
        "colab_type": "code",
        "colab": {}
      },
      "source": [
        "train_inputs,train_targets,test_inputs,test_targets=train_inputs.to(device),train_targets.to(device),test_inputs.to(device),test_targets.to(device)\n",
        "train_losses=[]\n",
        "loss_sum=0\n",
        "for epoch in range(num_epochs):\n",
        "    #for train_inputs, train_targets in train_loader:\n",
        "    #for train_inputs, train_targets in training_loader:\n",
        "    #train_inputs,train_targets=train_inputs.to(device),train_targets.to(device)\n",
        "    avg_loss=train_step(train_inputs,train_targets)\n",
        "    loss_sum+=avg_loss\n",
        "    if (epoch % 5) == 4: \n",
        "        train_losses.append(loss_sum/5)\n",
        "        loss_sum=0\n",
        "\n",
        "evals, eval_loss=eval_step(test_inputs,test_targets)\n"
      ],
      "execution_count": null,
      "outputs": []
    },
    {
      "cell_type": "code",
      "metadata": {
        "scrolled": true,
        "id": "1FOf2nmGOyyP",
        "colab_type": "code",
        "colab": {
          "base_uri": "https://localhost:8080/",
          "height": 299
        },
        "outputId": "36f0bcb2-d8ae-4fcb-bdab-bf4b3d36ef06"
      },
      "source": [
        "plt.plot(train_losses)\n",
        "plt.title('Training Loss Over Epochs')"
      ],
      "execution_count": null,
      "outputs": [
        {
          "output_type": "execute_result",
          "data": {
            "text/plain": [
              "Text(0.5, 1.0, 'Training Loss Over Epochs')"
            ]
          },
          "metadata": {
            "tags": []
          },
          "execution_count": 17
        },
        {
          "output_type": "display_data",
          "data": {
            "image/png": "[encoded data removed]",
            "text/plain": [
              "<Figure size 432x288 with 1 Axes>"
            ]
          },
          "metadata": {
            "tags": [],
            "needs_background": "light"
          }
        }
      ]
    },
    {
      "cell_type": "markdown",
      "metadata": {
        "id": "-WYIDVGDOyyT",
        "colab_type": "text"
      },
      "source": [
        "plt.title('Train Predictions vs Actual ')\n",
        "plt.plot(output[:,-1,high_ind].cpu().detach().numpy(), label=\"Predicted\")\n",
        "plt.plot(train_targets[:,-1,high_ind].cpu().detach().numpy(),label='Actual')\n",
        "plt.ylabel('typical_price')\n",
        "plt.xlabel('timestep')\n",
        "plt.legend()\n",
        "plt.show()"
      ]
    },
    {
      "cell_type": "code",
      "metadata": {
        "id": "HxRqGLLYOyyf",
        "colab_type": "code",
        "colab": {
          "base_uri": "https://localhost:8080/",
          "height": 295
        },
        "outputId": "eb2992de-8995-44b8-f5ad-e4b9e07b8cb1"
      },
      "source": [
        "plt.title('Stateless Test Predictions vs. Actual')\n",
        "#plt.plot(restored_evals[:,high_ind], 'g',label='Predicted')\n",
        "#plt.plot(restored_test_targets[:,high_ind],'r',label='Actual')\n",
        "plt.plot(evals[:,-1,high_ind].cpu().detach().numpy(), 'g',label='Predicted')\n",
        "plt.plot(test_targets[:,-1,high_ind].cpu().detach().numpy(),'r',label='Actual')\n",
        "plt.ylabel('High')\n",
        "plt.xlabel('Day')\n",
        "plt.legend()\n",
        "plt.show()"
      ],
      "execution_count": null,
      "outputs": [
        {
          "output_type": "display_data",
          "data": {
            "image/png": "[encoded data removed]",
            "text/plain": [
              "<Figure size 432x288 with 1 Axes>"
            ]
          },
          "metadata": {
            "tags": [],
            "needs_background": "light"
          }
        }
      ]
    },
    {
      "cell_type": "code",
      "metadata": {
        "id": "0hRN2Ys1OyzA",
        "colab_type": "code",
        "colab": {}
      },
      "source": [
        "def StockPredictor(train_inputs,data,stock_symbol): \n",
        "    \n",
        "    retrain=torch.Tensor(data[-sample_len:].values).to(device)\n",
        "        \n",
        "    pred=model(retrain.view(-1,retrain.shape[0],retrain.shape[1]))\n",
        "    rescaled_pred=scaler.inverse_transform(pred.view(pred.shape[1],pred.shape[2]).cpu().detach())\n",
        "    \n",
        "    high=rescaled_pred[-2:,high_ind]\n",
        "    low=rescaled_pred[-2:,low_ind]\n",
        "\n",
        "    print('Avg Error is',eval_loss)\n",
        "    \n",
        "    for day in range(len(high)):\n",
        "        if day<high.shape[0]-1:\n",
        "            \n",
        "            if high[day] > high[day+1]:\n",
        "                print('Sell for day',day,'at',high[day])\n",
        "            elif high[day] == high[day+1]:\n",
        "                print('Hold for day',day)\n",
        "            elif high[day] < high[day+1]:\n",
        "                print('Hold/buy for day',day,'at',low[day])        \n",
        "            else:\n",
        "                break\n",
        "    \n",
        "    \n",
        "    plt.title('Stock Forecast for'+ ' '+ stock_symbol)\n",
        "    plt.plot(high)\n",
        "    plt.ylabel(data.columns[high_ind])\n",
        "    plt.xlabel('Day')"
      ],
      "execution_count": null,
      "outputs": []
    },
    {
      "cell_type": "code",
      "metadata": {
        "id": "266qVUNjOyzF",
        "colab_type": "code",
        "colab": {
          "base_uri": "https://localhost:8080/",
          "height": 330
        },
        "outputId": "346ee90e-4d2a-455b-84f1-c753c86df6f4"
      },
      "source": [
        "StockPredictor(train_inputs,data,stock_symbol)"
      ],
      "execution_count": null,
      "outputs": [
        {
          "output_type": "stream",
          "text": [
            "Avg Error is tensor(0.0001, grad_fn=<DivBackward0>)\n",
            "Hold/buy for day 0 at 362.93690524101254\n"
          ],
          "name": "stdout"
        },
        {
          "output_type": "display_data",
          "data": {
            "image/png": "[encoded data removed]",
            "text/plain": [
              "<Figure size 432x288 with 1 Axes>"
            ]
          },
          "metadata": {
            "tags": [],
            "needs_background": "light"
          }
        }
      ]
    }
  ]
}