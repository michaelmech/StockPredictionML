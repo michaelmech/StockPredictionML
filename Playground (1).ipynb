{
 "cells": [
  {
   "cell_type": "code",
   "execution_count": null,
   "metadata": {
    "colab": {
     "base_uri": "https://localhost:8080/",
     "height": 1000
    },
    "id": "oW0sguynKrXb",
    "outputId": "f0c7e472-9b9b-40cb-fd17-b7a4f1cde7be"
   },
   "outputs": [],
   "source": [
    "#!pip install Unidecode\n",
    "!pip install basketball-reference-scraper\n",
    "!pip install PyPortfolioOpt\n",
    "!pip install basketball_reference_web_scraper\n",
    "!pip install selenium\n",
    "!pip install kora -q"
   ]
  },
  {
   "cell_type": "code",
   "execution_count": null,
   "metadata": {
    "colab": {
     "base_uri": "https://localhost:8080/",
     "height": 530
    },
    "id": "wrAmeSrlaCBH",
    "outputId": "38409f04-0933-49c8-a0c2-51de3cb4e7a3"
   },
   "outputs": [],
   "source": [
    "import pypfopt\n",
    "from basketball_reference_web_scraper import client\n",
    "from basketball_reference_web_scraper.data import OutputType\n",
    "import itertools\n",
    "import basketball_reference_scraper as brs\n",
    "import numpy as np\n",
    "import pandas as pd\n",
    "import json\n",
    "import csv\n",
    "from google.colab import files\n",
    "import os\n",
    "from selenium import webdriver\n",
    "\n",
    "from datetime import date\n",
    "from kora.selenium import wd as driver\n",
    "import sklearn\n",
    "\n",
    "from selenium.webdriver import ActionChains\n",
    "from selenium.webdriver.common.keys import Keys\n",
    "\n",
    "import time\n",
    "\n"
   ]
  },
  {
   "cell_type": "code",
   "execution_count": null,
   "metadata": {
    "id": "phdd--WJrI9C"
   },
   "outputs": [],
   "source": [
    "def Upload_DF(): #should only give ltgr, and price % of 52w High\n",
    "  \n",
    "  uploaded=files.upload()\n",
    "  df_name=list(uploaded.keys())[0]\n",
    "\n",
    "  row_lst=[]\n",
    "  csv_file=open(df_name)\n",
    "  reader=csv.reader(csv_file)\n",
    "  for entry in reader:\n",
    "    row_lst.append(entry)\n",
    "  \n",
    "  orig_df=pd.DataFrame(row_lst)\n",
    "\n",
    "  return orig_df"
   ]
  },
  {
   "cell_type": "code",
   "execution_count": null,
   "metadata": {
    "id": "Cb3lJhjPdvhy"
   },
   "outputs": [],
   "source": [
    "soup = BeautifulSoup(response)"
   ]
  },
  {
   "cell_type": "code",
   "execution_count": null,
   "metadata": {
    "id": "Yb7TRfAtXohR"
   },
   "outputs": [],
   "source": []
  },
  {
   "cell_type": "code",
   "execution_count": null,
   "metadata": {
    "id": "uPUQUznzrNqz"
   },
   "outputs": [],
   "source": [
    "#test_df=Upload_DF()"
   ]
  },
  {
   "cell_type": "code",
   "execution_count": null,
   "metadata": {
    "id": "Uoz6i-2HYSJ6"
   },
   "outputs": [],
   "source": [
    "from kora.selenium import wd as driver\n"
   ]
  },
  {
   "cell_type": "code",
   "execution_count": null,
   "metadata": {
    "id": "3eh_fRTXUmYJ"
   },
   "outputs": [],
   "source": [
    "client.season_schedule(2012,output_type=OutputType.CSV,output_file_path='testings.csv')"
   ]
  },
  {
   "cell_type": "code",
   "execution_count": null,
   "metadata": {
    "id": "DHzUF455BPrh"
   },
   "outputs": [],
   "source": [
    "schedule_df=pd.read_json('testing.json')"
   ]
  },
  {
   "cell_type": "code",
   "execution_count": null,
   "metadata": {
    "id": "3WCKeDR0EnKN"
   },
   "outputs": [],
   "source": [
    "!pip install webdriver_manager\n",
    "from selenium import webdriver\n",
    "from webdriver_manager.opera import OperaDriverManager"
   ]
  },
  {
   "cell_type": "code",
   "execution_count": null,
   "metadata": {
    "id": "ZL6Zo9pnr201"
   },
   "outputs": [],
   "source": [
    "options=webdriver.opera.options.Options()\n",
    "prefs = {\"download.default_directory\" : \"C:\\Users\\Michael\\Downloads\"}\n",
    "options.add_experimental_option(\"prefs\",prefs)"
   ]
  },
  {
   "cell_type": "code",
   "execution_count": null,
   "metadata": {
    "id": "5RRLFsp2sMkM"
   },
   "outputs": [],
   "source": [
    "prefs={\"download.default_directory\" : \"C:\\Users\\Michael\\Downloads\"}"
   ]
  },
  {
   "cell_type": "code",
   "execution_count": null,
   "metadata": {
    "id": "YKdREVT3eZWc"
   },
   "outputs": [],
   "source": [
    "driver=webdriver.opera.webdriver()"
   ]
  },
  {
   "cell_type": "code",
   "execution_count": null,
   "metadata": {
    "id": "LjPXOi1-cbZm"
   },
   "outputs": [],
   "source": [
    "driver=webdriver.Opera('operadriver')"
   ]
  },
  {
   "cell_type": "code",
   "execution_count": null,
   "metadata": {
    "id": "5msn2DhaeGjl"
   },
   "outputs": [],
   "source": [
    "OperaDriverManager().install()"
   ]
  },
  {
   "cell_type": "code",
   "execution_count": null,
   "metadata": {
    "id": "rmecJCCfe-_f"
   },
   "outputs": [],
   "source": [
    "def IsBenSimmonsAGoodPerson():\n",
    "  print('no')"
   ]
  },
  {
   "cell_type": "code",
   "execution_count": null,
   "metadata": {
    "id": "cLA8uQzwfFiP"
   },
   "outputs": [],
   "source": [
    "dic={'Vaccinated': ['Ben Simmmons','Lebron James']}\n",
    "\n",
    "reasonable_person=pd.DataFrame(dic)"
   ]
  },
  {
   "cell_type": "code",
   "execution_count": null,
   "metadata": {
    "id": "MCCJft3Zf9Pl"
   },
   "outputs": [],
   "source": [
    "reasonable_person"
   ]
  },
  {
   "cell_type": "code",
   "execution_count": null,
   "metadata": {
    "id": "_esp6x4Cg0g-"
   },
   "outputs": [],
   "source": [
    "'Kyrie Irving' in test_df"
   ]
  },
  {
   "cell_type": "code",
   "execution_count": null,
   "metadata": {
    "id": "Ec9fRl0thKpK"
   },
   "outputs": [],
   "source": [
    "test_df.columns[0]"
   ]
  },
  {
   "cell_type": "code",
   "execution_count": null,
   "metadata": {
    "id": "RAgH3cG2eliB"
   },
   "outputs": [],
   "source": [
    "'Trae Young' in test_df[test_df.columns[0]]"
   ]
  },
  {
   "cell_type": "code",
   "execution_count": null,
   "metadata": {
    "id": "Re863P9ihxcU"
   },
   "outputs": [],
   "source": [
    " in list(test_df[test_df.columns[0]])"
   ]
  },
  {
   "cell_type": "code",
   "execution_count": null,
   "metadata": {
    "id": "psyzo47DfifS"
   },
   "outputs": [],
   "source": [
    "def recurser(lst,total,previous=[]):\n",
    "  if np.sum(previous)==total:\n",
    "    yield previous\n",
    "\n",
    "  if np.sum(previous)>=total:\n",
    "    return\n",
    "\n",
    "  for i in range(len(lst)):\n",
    "    num=lst[i]\n",
    "    remaining=lst[i+1:]\n",
    "    yield from solver(remaining,total,previous+[num])"
   ]
  },
  {
   "cell_type": "code",
   "execution_count": null,
   "metadata": {
    "id": "_LLvFc8fmDX2"
   },
   "outputs": [],
   "source": [
    "testing=test['DEN'][test['DEN']!='Did Not Play'].dropna()"
   ]
  },
  {
   "cell_type": "code",
   "execution_count": null,
   "metadata": {
    "id": "NYOI10Ezymri"
   },
   "outputs": [],
   "source": [
    "with open('testings.csv') as f:\n",
    "  reader =csv.reader(f)"
   ]
  },
  {
   "cell_type": "code",
   "execution_count": null,
   "metadata": {
    "id": "ThZ6MCVayUZp"
   },
   "outputs": [],
   "source": [
    "f = open('testings.csv')"
   ]
  },
  {
   "cell_type": "code",
   "execution_count": null,
   "metadata": {
    "id": "wamoQxiDLkeU"
   },
   "outputs": [],
   "source": [
    "reader =csv.reader(f)"
   ]
  },
  {
   "cell_type": "code",
   "execution_count": null,
   "metadata": {
    "id": "Gcau650LkTir"
   },
   "outputs": [],
   "source": [
    "test=list(reader)"
   ]
  },
  {
   "cell_type": "code",
   "execution_count": null,
   "metadata": {
    "id": "gGqpQocIkxX8"
   },
   "outputs": [],
   "source": [
    "tester=list(test)"
   ]
  },
  {
   "cell_type": "code",
   "execution_count": null,
   "metadata": {
    "id": "n9dZMZCrlj-5"
   },
   "outputs": [],
   "source": [
    "pd.Series(test).to_list()"
   ]
  },
  {
   "cell_type": "code",
   "execution_count": null,
   "metadata": {
    "id": "PMaKkrTgl2zk"
   },
   "outputs": [],
   "source": [
    "lst=[]\n",
    "for i in rations:\n",
    "  risk_model=pypfopt.risk_models.CovarianceShrinkage(test.reindex(i))\n",
    "  cov_matrix=risk_model.ledoit_wolf()#oracle_approximating()\n",
    "  lst.append(cov_matrix)\n",
    "  sum(lst)/len(lst)"
   ]
  }
 ],
 "metadata": {
  "colab": {
   "collapsed_sections": [],
   "name": "Playground",
   "provenance": []
  },
  "kernelspec": {
   "display_name": "Python 3",
   "language": "python",
   "name": "python3"
  },
  "language_info": {
   "codemirror_mode": {
    "name": "ipython",
    "version": 3
   },
   "file_extension": ".py",
   "mimetype": "text/x-python",
   "name": "python",
   "nbconvert_exporter": "python",
   "pygments_lexer": "ipython3",
   "version": "3.7.3"
  }
 },
 "nbformat": 4,
 "nbformat_minor": 1
}
